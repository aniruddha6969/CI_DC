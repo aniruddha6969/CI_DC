{
 "cells": [
  {
   "cell_type": "code",
   "execution_count": 1,
   "id": "3d1a963a",
   "metadata": {},
   "outputs": [
    {
     "name": "stdout",
     "output_type": "stream",
     "text": [
      "Defaulting to user installation because normal site-packages is not writeable\n",
      "Requirement already satisfied: deap in c:\\users\\aniruddha kulkarni\\appdata\\roaming\\python\\python310\\site-packages (1.4.1)\n",
      "Requirement already satisfied: numpy in c:\\users\\aniruddha kulkarni\\appdata\\roaming\\python\\python310\\site-packages (from deap) (1.23.5)\n",
      "Note: you may need to restart the kernel to use updated packages.\n"
     ]
    },
    {
     "name": "stderr",
     "output_type": "stream",
     "text": [
      "WARNING: Ignoring invalid distribution -pencv-python (c:\\users\\aniruddha kulkarni\\appdata\\roaming\\python\\python310\\site-packages)\n",
      "WARNING: Ignoring invalid distribution -pencv-python (c:\\users\\aniruddha kulkarni\\appdata\\roaming\\python\\python310\\site-packages)\n",
      "WARNING: Ignoring invalid distribution -pencv-python (c:\\users\\aniruddha kulkarni\\appdata\\roaming\\python\\python310\\site-packages)\n",
      "WARNING: Ignoring invalid distribution -pencv-python (c:\\users\\aniruddha kulkarni\\appdata\\roaming\\python\\python310\\site-packages)\n",
      "WARNING: Ignoring invalid distribution -pencv-python (c:\\users\\aniruddha kulkarni\\appdata\\roaming\\python\\python310\\site-packages)\n",
      "WARNING: Ignoring invalid distribution -pencv-python (c:\\users\\aniruddha kulkarni\\appdata\\roaming\\python\\python310\\site-packages)\n"
     ]
    }
   ],
   "source": [
    "pip install deap"
   ]
  },
  {
   "cell_type": "code",
   "execution_count": 2,
   "id": "d08d2edc",
   "metadata": {},
   "outputs": [],
   "source": [
    "import random\n",
    "from deap import base, creator, tools, algorithms"
   ]
  },
  {
   "cell_type": "code",
   "execution_count": 3,
   "id": "634a9b16",
   "metadata": {},
   "outputs": [],
   "source": [
    "# Define evaluation function (this is a mock function, replace this with your actual evaluationfunction)\n",
    "def evaluate(individual):\n",
    "# Here 'individual' represents the parameters for the neural network\n",
    "# You'll need to replace this with your actual evaluation function that trains the neural networkand evaluates its performance\n",
    "# Return a fitness value (here, a random number is used as an example)\n",
    "    return random.random(),"
   ]
  },
  {
   "cell_type": "code",
   "execution_count": 4,
   "id": "35e87b1b",
   "metadata": {},
   "outputs": [],
   "source": [
    "# Define genetic algorithm parameters\n",
    "POPULATION_SIZE = 10\n",
    "GENERATIONS = 5"
   ]
  },
  {
   "cell_type": "code",
   "execution_count": 5,
   "id": "0e9caa37",
   "metadata": {},
   "outputs": [],
   "source": [
    "# Create types for fitness and individuals in the genetic algorithm\n",
    "creator.create(\"FitnessMin\", base.Fitness, weights=(-1.0,))\n",
    "creator.create(\"Individual\", list, fitness=creator.FitnessMin)"
   ]
  },
  {
   "cell_type": "code",
   "execution_count": 6,
   "id": "75f1cb48",
   "metadata": {},
   "outputs": [],
   "source": [
    "# Initialize toolbox\n",
    "toolbox = base.Toolbox()"
   ]
  },
  {
   "cell_type": "code",
   "execution_count": 7,
   "id": "5e66f312",
   "metadata": {},
   "outputs": [],
   "source": [
    "# Define attributes and individuals\n",
    "\n",
    "toolbox.register(\"attr_neurons\", random.randint, 1, 100) # Example: number of neurons\n",
    "toolbox.register(\"attr_layers\", random.randint, 1, 5) # Example: number of layers\n",
    "toolbox.register(\"individual\", tools.initCycle, creator.Individual, (toolbox.attr_neurons,\n",
    "toolbox.attr_layers), n=1)\n",
    "toolbox.register(\"population\", tools.initRepeat, list, toolbox.individual)"
   ]
  },
  {
   "cell_type": "code",
   "execution_count": 8,
   "id": "70371146",
   "metadata": {},
   "outputs": [],
   "source": [
    "# Genetic operators\n",
    "toolbox.register(\"evaluate\", evaluate)\n",
    "toolbox.register(\"mate\", tools.cxTwoPoint)\n",
    "toolbox.register(\"mutate\", tools.mutUniformInt, low=1, up=100, indpb=0.2)\n",
    "toolbox.register(\"select\", tools.selTournament, tournsize=3)"
   ]
  },
  {
   "cell_type": "code",
   "execution_count": 9,
   "id": "a679fc0d",
   "metadata": {},
   "outputs": [],
   "source": [
    "# Create initial population\n",
    "population = toolbox.population(n=POPULATION_SIZE)"
   ]
  },
  {
   "cell_type": "code",
   "execution_count": 10,
   "id": "1486bb0f",
   "metadata": {},
   "outputs": [],
   "source": [
    "# Run the genetic algorithm\n",
    "for gen in range(GENERATIONS):\n",
    "    offspring = algorithms.varAnd(population, toolbox, cxpb=0.5, mutpb=0.1)\n",
    "\n",
    "    fitnesses = toolbox.map(toolbox.evaluate, offspring)\n",
    "    for ind, fit in zip(offspring, fitnesses):\n",
    "        ind.fitness.values = fit\n",
    "\n",
    "        population = toolbox.select(offspring, k=len(population))"
   ]
  },
  {
   "cell_type": "code",
   "execution_count": 11,
   "id": "cf2937fb",
   "metadata": {},
   "outputs": [
    {
     "name": "stdout",
     "output_type": "stream",
     "text": [
      "Best Parameters: [93, 2]\n"
     ]
    }
   ],
   "source": [
    "# Get the best individual from the final population\n",
    "best_individual = tools.selBest(population, k=1)[0]\n",
    "best_params = best_individual\n",
    "\n",
    "# Print the best parameters found\n",
    "print(\"Best Parameters:\", best_params)"
   ]
  },
  {
   "cell_type": "code",
   "execution_count": null,
   "id": "71844326",
   "metadata": {},
   "outputs": [],
   "source": []
  }
 ],
 "metadata": {
  "kernelspec": {
   "display_name": "Python 3 (ipykernel)",
   "language": "python",
   "name": "python3"
  },
  "language_info": {
   "codemirror_mode": {
    "name": "ipython",
    "version": 3
   },
   "file_extension": ".py",
   "mimetype": "text/x-python",
   "name": "python",
   "nbconvert_exporter": "python",
   "pygments_lexer": "ipython3",
   "version": "3.10.9"
  }
 },
 "nbformat": 4,
 "nbformat_minor": 5
}
