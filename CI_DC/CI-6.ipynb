{
 "cells": [
  {
   "cell_type": "code",
   "execution_count": 1,
   "id": "a51a5508",
   "metadata": {},
   "outputs": [],
   "source": [
    "import random\n",
    "import numpy as np"
   ]
  },
  {
   "cell_type": "code",
   "execution_count": 2,
   "id": "7523f03b",
   "metadata": {},
   "outputs": [],
   "source": [
    "# Define the objective function\n",
    "def objective_function(x):\n",
    "# Example: Sphere function\n",
    "    return sum([i**2 for i in x])"
   ]
  },
  {
   "cell_type": "code",
   "execution_count": 3,
   "id": "fa72ab6a",
   "metadata": {},
   "outputs": [],
   "source": [
    "# Initialize population\n",
    "def initialize_population(pop_size, dimensions, lower_bound, upper_bound):\n",
    "    population = []\n",
    "    for _ in range(pop_size):\n",
    "        individual = np.random.uniform(lower_bound, upper_bound, dimensions)\n",
    "        population.append(individual)\n",
    "        return population"
   ]
  },
  {
   "cell_type": "code",
   "execution_count": 4,
   "id": "7b86270e",
   "metadata": {},
   "outputs": [],
   "source": [
    "# Clone an individual\n",
    "def clone_individual(individual, clone_factor):\n",
    "    clones = []\n",
    "    for _ in range(clone_factor):\n",
    "        clone = np.array(individual)\n",
    "        for i in range(len(clone)):\n",
    "            mutation_rate = random.uniform(0, 1)\n",
    "            if mutation_rate < 0.5:\n",
    "                clone[i] += random.uniform(-1, 1)\n",
    "                clones.append(clone)\n",
    "                return clones"
   ]
  },
  {
   "cell_type": "code",
   "execution_count": 5,
   "id": "d0e644db",
   "metadata": {},
   "outputs": [],
   "source": [
    "# Select the best individuals\n",
    "\n",
    "def select_best(population, num_selected, num_clones, clone_factor):\n",
    "    population.sort(key=lambda x: objective_function(x))\n",
    "    selected = []\n",
    "    for i in range(num_selected):\n",
    "        clones = clone_individual(population[i], clone_factor)\n",
    "        selected.extend(clones)\n",
    "        return selected[:num_clones]"
   ]
  },
  {
   "cell_type": "code",
   "execution_count": 6,
   "id": "c0fba06e",
   "metadata": {},
   "outputs": [],
   "source": [
    "# Main function for clonal selection algorithm\n",
    "def clonal_selection_algorithm(pop_size, dimensions, lower_bound, upper_bound, num_generations, num_selected, num_clones, clone_factor):\n",
    "    population = initialize_population(pop_size, dimensions, lower_bound, upper_bound)\n",
    "    for _ in range(num_generations):\n",
    "        selected = select_best(population, num_selected, num_clones, clone_factor)\n",
    "        population = selected\n",
    "        best_solution = min(population, key=lambda x: objective_function(x))\n",
    "        return best_solution, objective_function(best_solution)"
   ]
  },
  {
   "cell_type": "code",
   "execution_count": 8,
   "id": "32f3b6e6",
   "metadata": {},
   "outputs": [],
   "source": [
    "# Example usage\n",
    "if __name__ == \"__main__\":\n",
    "    pop_size = 100\n",
    "    dimensions = 2\n",
    "    lower_bound = -5.0\n",
    "    upper_bound = 5.0\n",
    "    num_generations = 100\n",
    "    num_selected = 10\n",
    "    num_clones = 5\n",
    "    clone_factor = 3"
   ]
  },
  {
   "cell_type": "code",
   "execution_count": 9,
   "id": "cb2aac3c",
   "metadata": {},
   "outputs": [
    {
     "name": "stdout",
     "output_type": "stream",
     "text": [
      "Best solution: [ 3.81670422 -1.72340031]\n",
      "Best fitness: 17.537339750803415\n"
     ]
    }
   ],
   "source": [
    "best_solution, best_fitness = clonal_selection_algorithm(pop_size, dimensions, lower_bound, upper_bound, num_generations, num_selected, num_clones, clone_factor)\n",
    "print(\"Best solution:\", best_solution)\n",
    "\n",
    "print(\"Best fitness:\", best_fitness)"
   ]
  },
  {
   "cell_type": "code",
   "execution_count": null,
   "id": "6454ea7c",
   "metadata": {},
   "outputs": [],
   "source": []
  }
 ],
 "metadata": {
  "kernelspec": {
   "display_name": "Python 3 (ipykernel)",
   "language": "python",
   "name": "python3"
  },
  "language_info": {
   "codemirror_mode": {
    "name": "ipython",
    "version": 3
   },
   "file_extension": ".py",
   "mimetype": "text/x-python",
   "name": "python",
   "nbconvert_exporter": "python",
   "pygments_lexer": "ipython3",
   "version": "3.10.9"
  }
 },
 "nbformat": 4,
 "nbformat_minor": 5
}
